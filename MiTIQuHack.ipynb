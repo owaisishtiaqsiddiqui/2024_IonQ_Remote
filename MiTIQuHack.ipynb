{
 "cells": [
  {
   "cell_type": "code",
   "execution_count": 2,
   "id": "05e9f88e-f9aa-481c-95b5-d838ec981360",
   "metadata": {
    "tags": []
   },
   "outputs": [],
   "source": [
    "import server\n",
    "\n",
    "server = server.Server()"
   ]
  },
  {
   "cell_type": "code",
   "execution_count": 434,
   "id": "8ecd1545-b848-4670-9e2d-8d6fb1409d2b",
   "metadata": {
    "tags": []
   },
   "outputs": [
    {
     "name": "stdout",
     "output_type": "stream",
     "text": [
      "     ┌─────────┐┌─────────┐┌─────────┐┌─────────┐┌─────────┐┌─────────┐»\n",
      "q_0: ┤ Rz(π/3) ├┤ Rx(π/4) ├┤ Rz(π/3) ├┤ Ry(π/3) ├┤ Rx(π/4) ├┤ Ry(π/3) ├»\n",
      "     ├─────────┤├─────────┤├─────────┤├─────────┤├─────────┤├─────────┤»\n",
      "q_1: ┤ Rz(π/3) ├┤ Rx(π/4) ├┤ Rz(π/3) ├┤ Ry(π/3) ├┤ Rx(π/4) ├┤ Ry(π/3) ├»\n",
      "     ├─────────┤├─────────┤├─────────┤├─────────┤├─────────┤├─────────┤»\n",
      "q_2: ┤ Rz(π/3) ├┤ Rx(π/4) ├┤ Rz(π/3) ├┤ Ry(π/3) ├┤ Rx(π/4) ├┤ Ry(π/3) ├»\n",
      "     └─────────┘└─────────┘└─────────┘└─────────┘└─────────┘└─────────┘»\n",
      "«     ┌─────────┐┌─────────┐┌─────────┐\n",
      "«q_0: ┤ Rx(π/3) ├┤ Ry(π/4) ├┤ Rx(π/3) ├\n",
      "«     ├─────────┤├─────────┤├─────────┤\n",
      "«q_1: ┤ Rx(π/3) ├┤ Ry(π/4) ├┤ Rx(π/3) ├\n",
      "«     ├─────────┤├─────────┤├─────────┤\n",
      "«q_2: ┤ Rx(π/3) ├┤ Ry(π/4) ├┤ Rx(π/3) ├\n",
      "«     └─────────┘└─────────┘└─────────┘\n",
      "OPENQASM 2.0;\n",
      "include \"qelib1.inc\";\n",
      "qreg q[3];\n",
      "rz(pi/3) q[0];\n",
      "rx(pi/4) q[0];\n",
      "rz(pi/3) q[0];\n",
      "ry(pi/3) q[0];\n",
      "rx(pi/4) q[0];\n",
      "ry(pi/3) q[0];\n",
      "rx(pi/3) q[0];\n",
      "ry(pi/4) q[0];\n",
      "rx(pi/3) q[0];\n",
      "rz(pi/3) q[1];\n",
      "rx(pi/4) q[1];\n",
      "rz(pi/3) q[1];\n",
      "ry(pi/3) q[1];\n",
      "rx(pi/4) q[1];\n",
      "ry(pi/3) q[1];\n",
      "rx(pi/3) q[1];\n",
      "ry(pi/4) q[1];\n",
      "rx(pi/3) q[1];\n",
      "rz(pi/3) q[2];\n",
      "rx(pi/4) q[2];\n",
      "rz(pi/3) q[2];\n",
      "ry(pi/3) q[2];\n",
      "rx(pi/4) q[2];\n",
      "ry(pi/3) q[2];\n",
      "rx(pi/3) q[2];\n",
      "ry(pi/4) q[2];\n",
      "rx(pi/3) q[2];\n",
      "\n"
     ]
    }
   ],
   "source": [
    "from qiskit import QuantumCircuit\n",
    "from qiskit.circuit.library import RZGate, RXGate, RXXGate, RZZGate\n",
    "def create_circuit(n_qubits):\n",
    "    # Create a quantum circuit\n",
    "    qc = QuantumCircuit(n_qubits)\n",
    "\n",
    "    # Check if the number of parameters is correct\n",
    "#    if len(params) != 3 * n_qubits:\n",
    "#        raise ValueError(\"The number of parameters should be three times the number of qubits\")\n",
    "\n",
    "    # Apply the gates\n",
    "    for i in range(n_qubits):\n",
    "        #qc.rz(params[3*i]*np.pi/3, i)\n",
    "        qc.rz(np.pi/2,i)\n",
    "        qc.rx(np.pi/4,i)\n",
    "        qc.rz(np.pi/2,i)\n",
    "        \n",
    "        qc.ry(np.pi/2,i)\n",
    "        qc.rx(np.pi/4,i)\n",
    "        qc.ry(np.pi/2,i)\n",
    "        \n",
    "        qc.rx(np.pi/2,i)\n",
    "        qc.ry(np.pi/4,i)\n",
    "        qc.rx(np.pi/2,i)\n",
    "\n",
    "\n",
    "\n",
    "    return qc\n",
    "\n",
    "# Test the function\n",
    "n_qubits = 3\n",
    "#params = np.linspace(0, np.pi, 3*n_qubits)  # Example parameters\n",
    "qc = create_circuit(n_qubits)\n",
    "print(qc)\n",
    "\n",
    "test_probe = qc.qasm()\n",
    "print(test_probe)"
   ]
  },
  {
   "cell_type": "code",
   "execution_count": 461,
   "id": "857eaa15-9ed6-4970-b248-2e702c20bdf6",
   "metadata": {
    "tags": []
   },
   "outputs": [
    {
     "data": {
      "text/plain": [
       "{'0': 0.05,\n",
       " '1': 0.1,\n",
       " '2': 0.01,\n",
       " '3': 0.01,\n",
       " '4': 0.16,\n",
       " '5': 0.06,\n",
       " '6': 0.05,\n",
       " '7': 0.015,\n",
       " '8': 0.11,\n",
       " '9': 0.175,\n",
       " '10': 0.05,\n",
       " '12': 0.075,\n",
       " '13': 0.045,\n",
       " '14': 0.055,\n",
       " '15': 0.035}"
      ]
     },
     "execution_count": 461,
     "metadata": {},
     "output_type": "execute_result"
    }
   ],
   "source": [
    "#!!!!!!!!!!!!!!!!!!!!!!!!!!!!!!!!!!!!!!!!!!!!!!!!!!!!!!!!!!!!!!!!!!!!!!\n",
    "#!!!!!!!!!!!Be careful about the Endian of returned histogram!!!!!!!!!!\n",
    "#!!!!!!!!!!!!!!!!!!!!!!!!!!!!!!!!!!!!!!!!!!!!!!!!!!!!!!!!!!!!!!!!!!!!!!\n",
    "server.probe(vault_index=11, circuit=test_probe)"
   ]
  },
  {
   "cell_type": "markdown",
   "id": "78346cd5-1133-4505-8205-c8780b9365bc",
   "metadata": {},
   "source": [
    "## Test attack"
   ]
  },
  {
   "cell_type": "code",
   "execution_count": 465,
   "id": "7050fb2b-9fb5-4d3b-87aa-d4f32ce52777",
   "metadata": {
    "tags": []
   },
   "outputs": [
    {
     "name": "stdout",
     "output_type": "stream",
     "text": [
      "     ┌─────────┐┌─────────┐┌─────────┐┌─────────┐┌─────────┐┌─────────┐»\n",
      "q_0: ┤ Rx(π/2) ├┤ Ry(π/4) ├┤ Rx(π/2) ├┤ Rx(π/2) ├┤ Ry(π/4) ├┤ Rx(π/2) ├»\n",
      "     ├─────────┤├─────────┤├─────────┤├─────────┤├─────────┤├─────────┤»\n",
      "q_1: ┤ Rx(π/2) ├┤ Ry(π/4) ├┤ Rx(π/2) ├┤ Rx(π/2) ├┤ Ry(π/4) ├┤ Rx(π/2) ├»\n",
      "     ├─────────┤├─────────┤├─────────┤├─────────┤├─────────┤├─────────┤»\n",
      "q_2: ┤ Rx(π/2) ├┤ Ry(π/4) ├┤ Rx(π/2) ├┤ Rx(π/2) ├┤ Ry(π/4) ├┤ Rx(π/2) ├»\n",
      "     └─────────┘└─────────┘└─────────┘└─────────┘└─────────┘└─────────┘»\n",
      "«     ┌─────────┐┌─────────┐┌─────────┐\n",
      "«q_0: ┤ Rx(π/2) ├┤ Ry(π/4) ├┤ Rx(π/2) ├\n",
      "«     ├─────────┤├─────────┤├─────────┤\n",
      "«q_1: ┤ Rx(π/2) ├┤ Ry(π/4) ├┤ Rx(π/2) ├\n",
      "«     ├─────────┤├─────────┤├─────────┤\n",
      "«q_2: ┤ Rx(π/2) ├┤ Ry(π/4) ├┤ Rx(π/2) ├\n",
      "«     └─────────┘└─────────┘└─────────┘\n",
      "OPENQASM 2.0;\n",
      "include \"qelib1.inc\";\n",
      "qreg q[3];\n",
      "rx(pi/2) q[0];\n",
      "ry(pi/4) q[0];\n",
      "rx(pi/2) q[0];\n",
      "rx(pi/2) q[0];\n",
      "ry(pi/4) q[0];\n",
      "rx(pi/2) q[0];\n",
      "rx(pi/2) q[0];\n",
      "ry(pi/4) q[0];\n",
      "rx(pi/2) q[0];\n",
      "rx(pi/2) q[1];\n",
      "ry(pi/4) q[1];\n",
      "rx(pi/2) q[1];\n",
      "rx(pi/2) q[1];\n",
      "ry(pi/4) q[1];\n",
      "rx(pi/2) q[1];\n",
      "rx(pi/2) q[1];\n",
      "ry(pi/4) q[1];\n",
      "rx(pi/2) q[1];\n",
      "rx(pi/2) q[2];\n",
      "ry(pi/4) q[2];\n",
      "rx(pi/2) q[2];\n",
      "rx(pi/2) q[2];\n",
      "ry(pi/4) q[2];\n",
      "rx(pi/2) q[2];\n",
      "rx(pi/2) q[2];\n",
      "ry(pi/4) q[2];\n",
      "rx(pi/2) q[2];\n",
      "\n"
     ]
    }
   ],
   "source": [
    "import math\n",
    "import numpy as np\n",
    "from qiskit.circuit.library import RZGate, RXGate, RXXGate, RZZGate\n",
    "def create_circuit(n_qubits):\n",
    "    # Create a quantum circuit\n",
    "    qc = QuantumCircuit(n_qubits)\n",
    "\n",
    "    # Check if the number of parameters is correct\n",
    "    #if len(params) != 3 * n_qubits:\n",
    "    #    raise ValueError(\"The number of parameters should be three times the number of qubits\")\n",
    "\n",
    "        #qc.rz(params[3*i], i)\n",
    "    for i in range(n_qubits):\n",
    "        \n",
    "        qc.rx(np.pi/2,i)\n",
    "        qc.ry(np.pi/4,i)\n",
    "        qc.rx(np.pi/2,i)\n",
    "\n",
    "        \n",
    "        qc.rx(np.pi/2,i)\n",
    "        qc.ry(np.pi/4,i)\n",
    "        qc.rx(np.pi/2,i)\n",
    "\n",
    "        \n",
    "        qc.rx(np.pi/2,i)\n",
    "        qc.ry(np.pi/4,i)\n",
    "        qc.rx(np.pi/2,i)\n",
    "\n",
    "        \n",
    "\n",
    "    return qc\n",
    "\n",
    "# Test the function\n",
    "n_qubits = 3\n",
    "#params = np.linspace(np.pi/6,np.pi,n_qubits)  # Example parameters\n",
    "qc = create_circuit(n_qubits)\n",
    "print(qc)\n",
    "\n",
    "test_attack = qc.qasm()\n",
    "print(test_attack)"
   ]
  },
  {
   "cell_type": "code",
   "execution_count": 466,
   "id": "dccbb755-2b21-4214-994a-fc0ffbe65f85",
   "metadata": {
    "tags": []
   },
   "outputs": [
    {
     "data": {
      "text/plain": [
       "{'costFactor': 1, 'rawScore': 0.013, 'score': 0.013}"
      ]
     },
     "execution_count": 466,
     "metadata": {},
     "output_type": "execute_result"
    }
   ],
   "source": [
    "server.attack(vault_index=12, circuit=test_attack)"
   ]
  },
  {
   "cell_type": "markdown",
   "id": "11ff8c7b-a550-4f26-9783-b09cc5ef8860",
   "metadata": {},
   "source": [
    "## Check the State"
   ]
  },
  {
   "cell_type": "code",
   "execution_count": 467,
   "id": "b4e82585-d2e8-40d7-937b-94629b7dac79",
   "metadata": {
    "tags": []
   },
   "outputs": [
    {
     "data": {
      "text/plain": [
       "{'team': 'catlon-olpha',\n",
       " 'totalAvgScore': 0.11325000000000002,\n",
       " 'topVaultScores': [0.8,\n",
       "  0.014,\n",
       "  0.0495,\n",
       "  0,\n",
       "  0.0005,\n",
       "  0.327,\n",
       "  0.0625,\n",
       "  0.0075,\n",
       "  0.0015,\n",
       "  0.2565,\n",
       "  0.341,\n",
       "  0.1585,\n",
       "  0.1405],\n",
       " 'probesRemaining': [28, 6, 8, 0, 5, 8, 7, 6, 12, 13, 19, 17, 16],\n",
       " 'attacksRemaining': [32, 1, 1, 0, 0, 8, 4, 4, 0, 10, 0, 8, 4],\n",
       " 'reminder': 'Vault index 0 is a test vault, and does not count towards your final score.'}"
      ]
     },
     "execution_count": 467,
     "metadata": {},
     "output_type": "execute_result"
    }
   ],
   "source": [
    "server.state()"
   ]
  }
 ],
 "metadata": {
  "kernelspec": {
   "display_name": "Python 3 [Default]",
   "language": "python",
   "name": "python3"
  },
  "language_info": {
   "codemirror_mode": {
    "name": "ipython",
    "version": 3
   },
   "file_extension": ".py",
   "mimetype": "text/x-python",
   "name": "python",
   "nbconvert_exporter": "python",
   "pygments_lexer": "ipython3",
   "version": "3.11.7"
  }
 },
 "nbformat": 4,
 "nbformat_minor": 5
}
