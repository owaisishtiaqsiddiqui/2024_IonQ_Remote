{
 "cells": [
  {
   "cell_type": "markdown",
   "metadata": {},
   "source": [
    "# Reconstruction exmaple"
   ]
  },
  {
   "cell_type": "markdown",
   "metadata": {},
   "source": [
    "## Import the relevant libraries"
   ]
  },
  {
   "cell_type": "code",
   "execution_count": 2,
   "metadata": {
    "tags": []
   },
   "outputs": [],
   "source": [
    "import cirq\n",
    "import numpy as np\n",
    "import sympy\n",
    "from qiskit import *\n",
    "from qiskit import QuantumCircuit"
   ]
  },
  {
   "cell_type": "code",
   "execution_count": 3,
   "metadata": {
    "tags": []
   },
   "outputs": [],
   "source": [
    "import server\n",
    "\n",
    "server = server.Server()"
   ]
  },
  {
   "cell_type": "markdown",
   "metadata": {},
   "source": [
    "## Register team"
   ]
  },
  {
   "cell_type": "code",
   "execution_count": 3,
   "metadata": {
    "collapsed": true,
    "jupyter": {
     "outputs_hidden": true
    },
    "tags": []
   },
   "outputs": [
    {
     "ename": "RequestsApiError",
     "evalue": "403 Client Error: Forbidden for url: https://api.qbraid.com/api/iquhack/ionq/register. {\n  \"error\": \"Access denied: Registration is closed.\"\n}",
     "output_type": "error",
     "traceback": [
      "\u001b[0;31m---------------------------------------------------------------------------\u001b[0m",
      "\u001b[0;31mHTTPError\u001b[0m                                 Traceback (most recent call last)",
      "File \u001b[0;32m/opt/.qbraid/environments/qbraid_000000/pyenv/lib/python3.11/site-packages/qbraid/api/session.py:315\u001b[0m, in \u001b[0;36mQbraidSession.request\u001b[0;34m(self, method, url, **kwargs)\u001b[0m\n\u001b[1;32m    314\u001b[0m     response \u001b[38;5;241m=\u001b[39m \u001b[38;5;28msuper\u001b[39m()\u001b[38;5;241m.\u001b[39mrequest(method, final_url, headers\u001b[38;5;241m=\u001b[39mheaders, \u001b[38;5;241m*\u001b[39m\u001b[38;5;241m*\u001b[39mkwargs)\n\u001b[0;32m--> 315\u001b[0m     \u001b[43mresponse\u001b[49m\u001b[38;5;241;43m.\u001b[39;49m\u001b[43mraise_for_status\u001b[49m\u001b[43m(\u001b[49m\u001b[43m)\u001b[49m\n\u001b[1;32m    316\u001b[0m \u001b[38;5;28;01mexcept\u001b[39;00m RequestException \u001b[38;5;28;01mas\u001b[39;00m ex:\n\u001b[1;32m    317\u001b[0m     \u001b[38;5;66;03m# Wrap requests exceptions for compatibility.\u001b[39;00m\n",
      "File \u001b[0;32m/opt/.qbraid/environments/qbraid_000000/pyenv/lib/python3.11/site-packages/requests/models.py:1021\u001b[0m, in \u001b[0;36mResponse.raise_for_status\u001b[0;34m(self)\u001b[0m\n\u001b[1;32m   1020\u001b[0m \u001b[38;5;28;01mif\u001b[39;00m http_error_msg:\n\u001b[0;32m-> 1021\u001b[0m     \u001b[38;5;28;01mraise\u001b[39;00m HTTPError(http_error_msg, response\u001b[38;5;241m=\u001b[39m\u001b[38;5;28mself\u001b[39m)\n",
      "\u001b[0;31mHTTPError\u001b[0m: 403 Client Error: Forbidden for url: https://api.qbraid.com/api/iquhack/ionq/register",
      "\nThe above exception was the direct cause of the following exception:\n",
      "\u001b[0;31mRequestsApiError\u001b[0m                          Traceback (most recent call last)",
      "Cell \u001b[0;32mIn[3], line 1\u001b[0m\n\u001b[0;32m----> 1\u001b[0m \u001b[43mserver\u001b[49m\u001b[38;5;241;43m.\u001b[39;49m\u001b[43mregister\u001b[49m\u001b[43m(\u001b[49m\u001b[38;5;124;43m\"\u001b[39;49m\u001b[38;5;124;43mcatlon-olpha\u001b[39;49m\u001b[38;5;124;43m\"\u001b[39;49m\u001b[43m)\u001b[49m\n",
      "File \u001b[0;32m~/2024_IonQ_Remote/server.py:56\u001b[0m, in \u001b[0;36mServer.register\u001b[0;34m(self, team_name)\u001b[0m\n\u001b[1;32m     54\u001b[0m \u001b[38;5;28;01mdef\u001b[39;00m \u001b[38;5;21mregister\u001b[39m(\u001b[38;5;28mself\u001b[39m, team_name: \u001b[38;5;28mstr\u001b[39m) \u001b[38;5;241m-\u001b[39m\u001b[38;5;241m>\u001b[39m \u001b[38;5;28mstr\u001b[39m:\n\u001b[1;32m     55\u001b[0m \u001b[38;5;250m    \u001b[39m\u001b[38;5;124;03m\"\"\"Initialize session. Only needs to be done once.\"\"\"\u001b[39;00m\n\u001b[0;32m---> 56\u001b[0m     resp \u001b[38;5;241m=\u001b[39m \u001b[38;5;28;43mself\u001b[39;49m\u001b[38;5;241;43m.\u001b[39;49m\u001b[43msession\u001b[49m\u001b[38;5;241;43m.\u001b[39;49m\u001b[43mpost\u001b[49m\u001b[43m(\u001b[49m\n\u001b[1;32m     57\u001b[0m \u001b[43m        \u001b[49m\u001b[38;5;124;43mf\u001b[39;49m\u001b[38;5;124;43m\"\u001b[39;49m\u001b[38;5;124;43m/iquhack/ionq/register\u001b[39;49m\u001b[38;5;124;43m\"\u001b[39;49m\u001b[43m,\u001b[49m\u001b[43m \u001b[49m\u001b[43mjson\u001b[49m\u001b[38;5;241;43m=\u001b[39;49m\u001b[43m{\u001b[49m\u001b[38;5;124;43m\"\u001b[39;49m\u001b[38;5;124;43mteamName\u001b[39;49m\u001b[38;5;124;43m\"\u001b[39;49m\u001b[43m:\u001b[49m\u001b[43m \u001b[49m\u001b[43mteam_name\u001b[49m\u001b[43m}\u001b[49m\n\u001b[1;32m     58\u001b[0m \u001b[43m    \u001b[49m\u001b[43m)\u001b[49m\u001b[38;5;241m.\u001b[39mjson()\n\u001b[1;32m     59\u001b[0m     message \u001b[38;5;241m=\u001b[39m resp[\u001b[38;5;124m\"\u001b[39m\u001b[38;5;124mmessage\u001b[39m\u001b[38;5;124m\"\u001b[39m]\n\u001b[1;32m     60\u001b[0m     \u001b[38;5;28;01mfor\u001b[39;00m ln \u001b[38;5;129;01min\u001b[39;00m message\u001b[38;5;241m.\u001b[39msplit(\u001b[38;5;124m\"\u001b[39m\u001b[38;5;130;01m\\n\u001b[39;00m\u001b[38;5;124m\"\u001b[39m):\n",
      "File \u001b[0;32m/opt/.qbraid/environments/qbraid_000000/pyenv/lib/python3.11/site-packages/requests/sessions.py:637\u001b[0m, in \u001b[0;36mSession.post\u001b[0;34m(self, url, data, json, **kwargs)\u001b[0m\n\u001b[1;32m    626\u001b[0m \u001b[38;5;28;01mdef\u001b[39;00m \u001b[38;5;21mpost\u001b[39m(\u001b[38;5;28mself\u001b[39m, url, data\u001b[38;5;241m=\u001b[39m\u001b[38;5;28;01mNone\u001b[39;00m, json\u001b[38;5;241m=\u001b[39m\u001b[38;5;28;01mNone\u001b[39;00m, \u001b[38;5;241m*\u001b[39m\u001b[38;5;241m*\u001b[39mkwargs):\n\u001b[1;32m    627\u001b[0m \u001b[38;5;250m    \u001b[39m\u001b[38;5;124mr\u001b[39m\u001b[38;5;124;03m\"\"\"Sends a POST request. Returns :class:`Response` object.\u001b[39;00m\n\u001b[1;32m    628\u001b[0m \n\u001b[1;32m    629\u001b[0m \u001b[38;5;124;03m    :param url: URL for the new :class:`Request` object.\u001b[39;00m\n\u001b[0;32m   (...)\u001b[0m\n\u001b[1;32m    634\u001b[0m \u001b[38;5;124;03m    :rtype: requests.Response\u001b[39;00m\n\u001b[1;32m    635\u001b[0m \u001b[38;5;124;03m    \"\"\"\u001b[39;00m\n\u001b[0;32m--> 637\u001b[0m     \u001b[38;5;28;01mreturn\u001b[39;00m \u001b[38;5;28;43mself\u001b[39;49m\u001b[38;5;241;43m.\u001b[39;49m\u001b[43mrequest\u001b[49m\u001b[43m(\u001b[49m\u001b[38;5;124;43m\"\u001b[39;49m\u001b[38;5;124;43mPOST\u001b[39;49m\u001b[38;5;124;43m\"\u001b[39;49m\u001b[43m,\u001b[49m\u001b[43m \u001b[49m\u001b[43murl\u001b[49m\u001b[43m,\u001b[49m\u001b[43m \u001b[49m\u001b[43mdata\u001b[49m\u001b[38;5;241;43m=\u001b[39;49m\u001b[43mdata\u001b[49m\u001b[43m,\u001b[49m\u001b[43m \u001b[49m\u001b[43mjson\u001b[49m\u001b[38;5;241;43m=\u001b[39;49m\u001b[43mjson\u001b[49m\u001b[43m,\u001b[49m\u001b[43m \u001b[49m\u001b[38;5;241;43m*\u001b[39;49m\u001b[38;5;241;43m*\u001b[39;49m\u001b[43mkwargs\u001b[49m\u001b[43m)\u001b[49m\n",
      "File \u001b[0;32m/opt/.qbraid/environments/qbraid_000000/pyenv/lib/python3.11/site-packages/qbraid/api/session.py:333\u001b[0m, in \u001b[0;36mQbraidSession.request\u001b[0;34m(self, method, url, **kwargs)\u001b[0m\n\u001b[1;32m    330\u001b[0m     \u001b[38;5;28;01mif\u001b[39;00m \u001b[38;5;28mself\u001b[39m\u001b[38;5;241m.\u001b[39mrefresh_token:\n\u001b[1;32m    331\u001b[0m         message \u001b[38;5;241m=\u001b[39m message\u001b[38;5;241m.\u001b[39mreplace(\u001b[38;5;28mself\u001b[39m\u001b[38;5;241m.\u001b[39mrefresh_token, \u001b[38;5;124m\"\u001b[39m\u001b[38;5;124m...\u001b[39m\u001b[38;5;124m\"\u001b[39m)\n\u001b[0;32m--> 333\u001b[0m     \u001b[38;5;28;01mraise\u001b[39;00m RequestsApiError(message) \u001b[38;5;28;01mfrom\u001b[39;00m \u001b[38;5;21;01mex\u001b[39;00m\n\u001b[1;32m    335\u001b[0m \u001b[38;5;28;01mreturn\u001b[39;00m response\n",
      "\u001b[0;31mRequestsApiError\u001b[0m: 403 Client Error: Forbidden for url: https://api.qbraid.com/api/iquhack/ionq/register. {\n  \"error\": \"Access denied: Registration is closed.\"\n}"
     ]
    }
   ],
   "source": [
    "server.register(\"catlon-olpha\")"
   ]
  },
  {
   "cell_type": "markdown",
   "metadata": {},
   "source": [
    "## Test probe using vault 0"
   ]
  },
  {
   "cell_type": "code",
   "execution_count": 4,
   "metadata": {
    "tags": []
   },
   "outputs": [
    {
     "name": "stdout",
     "output_type": "stream",
     "text": [
      "OPENQASM 2.0;\n",
      "include \"qelib1.inc\";\n",
      "qreg q[3];\n",
      "h q[0];\n",
      "h q[1];\n",
      "h q[2];\n",
      "\n"
     ]
    }
   ],
   "source": [
    "qc = QuantumCircuit(3)\n",
    "qc.h(0)\n",
    "qc.h(1)\n",
    "qc.h(2)\n",
    "test_probe = qc.qasm()\n",
    "print(test_probe)"
   ]
  },
  {
   "cell_type": "code",
   "execution_count": 5,
   "metadata": {
    "tags": []
   },
   "outputs": [
    {
     "name": "stderr",
     "output_type": "stream",
     "text": [
      "/opt/.qbraid/environments/qbraid_000000/pyenv/lib/python3.11/site-packages/qiskit/visualization/circuit/matplotlib.py:266: FutureWarning: The default matplotlib drawer scheme will be changed to \"iqp\" in a following release. To silence this warning, specify the current default explicitly as style=\"clifford\", or the new default as style=\"iqp\".\n",
      "  self._style, def_font_ratio = load_style(self._style)\n"
     ]
    },
    {
     "data": {
      "image/png": "[encoded data removed]",
      "text/plain": [
       "<Figure size 203.885x284.278 with 1 Axes>"
      ]
     },
     "execution_count": 5,
     "metadata": {},
     "output_type": "execute_result"
    }
   ],
   "source": [
    "qc.draw('mpl')"
   ]
  },
  {
   "cell_type": "code",
   "execution_count": 6,
   "metadata": {
    "tags": []
   },
   "outputs": [
    {
     "data": {
      "text/plain": [
       "{'0': 0.25, '3': 0.22, '5': 0.32, '6': 0.21}"
      ]
     },
     "execution_count": 6,
     "metadata": {},
     "output_type": "execute_result"
    }
   ],
   "source": [
    "#!!!!!!!!!!!!!!!!!!!!!!!!!!!!!!!!!!!!!!!!!!!!!!!!!!!!!!!!!!!!!!!!!!!!!!\n",
    "#!!!!!!!!!!!Be careful about the Endian of returned histogram!!!!!!!!!!\n",
    "#!!!!!!!!!!!!!!!!!!!!!!!!!!!!!!!!!!!!!!!!!!!!!!!!!!!!!!!!!!!!!!!!!!!!!!\n",
    "server.probe(vault_index=0, circuit=test_probe)"
   ]
  },
  {
   "cell_type": "markdown",
   "metadata": {
    "tags": []
   },
   "source": [
    "cq = cirq.Circuit()\n",
    "cq.append(cirq.H.on(cirq.LineQubit(0)))\n",
    "cq.append(cirq.H.on(cirq.LineQubit(1)))\n",
    "cq.append(cirq.H.on(cirq.LineQubit(2)))\n",
    "test_probe = cirq.qasm(cq)\n",
    "print(test_probe)"
   ]
  },
  {
   "cell_type": "markdown",
   "metadata": {},
   "source": [
    "## Test probe using vault 7"
   ]
  },
  {
   "cell_type": "code",
   "execution_count": 139,
   "metadata": {
    "tags": []
   },
   "outputs": [
    {
     "name": "stdout",
     "output_type": "stream",
     "text": [
      "OPENQASM 2.0;\n",
      "include \"qelib1.inc\";\n",
      "qreg q[3];\n",
      "rz(pi/3) q[0];\n",
      "rx(pi/3) q[0];\n",
      "rz(pi/3) q[0];\n",
      "rz(pi/3) q[1];\n",
      "rx(pi/3) q[1];\n",
      "rz(pi/3) q[1];\n",
      "rz(pi/3) q[2];\n",
      "rx(pi/3) q[2];\n",
      "rz(pi/3) q[2];\n",
      "\n"
     ]
    }
   ],
   "source": [
    "qc = QuantumCircuit(3)\n",
    "qc.rz(np.pi/3,0)\n",
    "qc.rx(np.pi/3,0)\n",
    "qc.rz(np.pi/3,0)\n",
    "\n",
    "qc.rz(np.pi/3,1)\n",
    "qc.rx(np.pi/3,1)\n",
    "qc.rz(np.pi/3,1)\n",
    "\n",
    "qc.rz(np.pi/3,2)\n",
    "qc.rx(np.pi/3,2)\n",
    "qc.rz(np.pi/3,2)\n",
    "\n",
    "test_attack = qc.qasm()\n",
    "print(test_attack)"
   ]
  },
  {
   "cell_type": "code",
   "execution_count": 140,
   "metadata": {
    "tags": []
   },
   "outputs": [
    {
     "data": {
      "image/png": "[encoded data removed]",
      "text/plain": [
       "<Figure size 371.107x284.278 with 1 Axes>"
      ]
     },
     "execution_count": 140,
     "metadata": {},
     "output_type": "execute_result"
    }
   ],
   "source": [
    "qc.draw('mpl')"
   ]
  },
  {
   "cell_type": "code",
   "execution_count": 149,
   "metadata": {
    "tags": []
   },
   "outputs": [
    {
     "data": {
      "text/plain": [
       "{'5': 0.005,\n",
       " '11': 0.005,\n",
       " '18': 0.015,\n",
       " '21': 0.01,\n",
       " '32': 0.005,\n",
       " '41': 0.005,\n",
       " '55': 0.005,\n",
       " '59': 0.005,\n",
       " '60': 0.005,\n",
       " '64': 0.005,\n",
       " '71': 0.005,\n",
       " '73': 0.005,\n",
       " '89': 0.005,\n",
       " '96': 0.005,\n",
       " '98': 0.01,\n",
       " '103': 0.005,\n",
       " '105': 0.005,\n",
       " '112': 0.005,\n",
       " '121': 0.01,\n",
       " '123': 0.005,\n",
       " '126': 0.005,\n",
       " '133': 0.005,\n",
       " '135': 0.005,\n",
       " '139': 0.005,\n",
       " '140': 0.005,\n",
       " '146': 0.005,\n",
       " '153': 0.005,\n",
       " '162': 0.005,\n",
       " '165': 0.005,\n",
       " '167': 0.005,\n",
       " '169': 0.005,\n",
       " '174': 0.005,\n",
       " '187': 0.005,\n",
       " '190': 0.005,\n",
       " '201': 0.005,\n",
       " '204': 0.005,\n",
       " '213': 0.005,\n",
       " '215': 0.01,\n",
       " '229': 0.01,\n",
       " '233': 0.005,\n",
       " '242': 0.005,\n",
       " '251': 0.005,\n",
       " '254': 0.005,\n",
       " '258': 0.005,\n",
       " '261': 0.005,\n",
       " '270': 0.01,\n",
       " '277': 0.005,\n",
       " '288': 0.005,\n",
       " '297': 0.01,\n",
       " '302': 0.005,\n",
       " '304': 0.01,\n",
       " '309': 0.005,\n",
       " '318': 0.005,\n",
       " '322': 0.005,\n",
       " '325': 0.005,\n",
       " '327': 0.005,\n",
       " '352': 0.005,\n",
       " '368': 0.01,\n",
       " '373': 0.005,\n",
       " '377': 0.01,\n",
       " '393': 0.005,\n",
       " '407': 0.01,\n",
       " '416': 0.005,\n",
       " '425': 0.01,\n",
       " '432': 0.005,\n",
       " '434': 0.005,\n",
       " '439': 0.005,\n",
       " '441': 0.005,\n",
       " '444': 0.005,\n",
       " '446': 0.01,\n",
       " '448': 0.01,\n",
       " '457': 0.005,\n",
       " '464': 0.005,\n",
       " '466': 0.005,\n",
       " '473': 0.005,\n",
       " '476': 0.005,\n",
       " '478': 0.005,\n",
       " '503': 0.005,\n",
       " '513': 0.005,\n",
       " '532': 0.005,\n",
       " '534': 0.01,\n",
       " '541': 0.005,\n",
       " '548': 0.005,\n",
       " '557': 0.005,\n",
       " '561': 0.005,\n",
       " '580': 0.01,\n",
       " '582': 0.02,\n",
       " '584': 0.005,\n",
       " '589': 0.015,\n",
       " '591': 0.005,\n",
       " '595': 0.005,\n",
       " '600': 0.005,\n",
       " '605': 0.01,\n",
       " '607': 0.005,\n",
       " '616': 0.005,\n",
       " '618': 0.005,\n",
       " '621': 0.005,\n",
       " '627': 0.005,\n",
       " '628': 0.005,\n",
       " '630': 0.01,\n",
       " '632': 0.01,\n",
       " '637': 0.005,\n",
       " '655': 0.005,\n",
       " '659': 0.005,\n",
       " '660': 0.005,\n",
       " '666': 0.005,\n",
       " '669': 0.01,\n",
       " '673': 0.005,\n",
       " '676': 0.005,\n",
       " '682': 0.01,\n",
       " '687': 0.005,\n",
       " '694': 0.005,\n",
       " '698': 0.005,\n",
       " '708': 0.01,\n",
       " '714': 0.01,\n",
       " '717': 0.005,\n",
       " '721': 0.01,\n",
       " '730': 0.005,\n",
       " '733': 0.01,\n",
       " '739': 0.005,\n",
       " '742': 0.005,\n",
       " '746': 0.01,\n",
       " '753': 0.005,\n",
       " '756': 0.01,\n",
       " '792': 0.005,\n",
       " '797': 0.005,\n",
       " '799': 0.005,\n",
       " '810': 0.005,\n",
       " '813': 0.005,\n",
       " '819': 0.005,\n",
       " '824': 0.005,\n",
       " '826': 0.005,\n",
       " '833': 0.005,\n",
       " '840': 0.005,\n",
       " '849': 0.005,\n",
       " '852': 0.005,\n",
       " '858': 0.005,\n",
       " '867': 0.005,\n",
       " '868': 0.005,\n",
       " '877': 0.005,\n",
       " '886': 0.005,\n",
       " '888': 0.005,\n",
       " '890': 0.005,\n",
       " '902': 0.01,\n",
       " '913': 0.01,\n",
       " '918': 0.005,\n",
       " '941': 0.005,\n",
       " '947': 0.005,\n",
       " '950': 0.01,\n",
       " '957': 0.005,\n",
       " '966': 0.015,\n",
       " '975': 0.005,\n",
       " '979': 0.005,\n",
       " '984': 0.005,\n",
       " '986': 0.005,\n",
       " '998': 0.01,\n",
       " '1000': 0.005,\n",
       " '1002': 0.005,\n",
       " '1012': 0.005,\n",
       " '1023': 0.005}"
      ]
     },
     "execution_count": 149,
     "metadata": {},
     "output_type": "execute_result"
    }
   ],
   "source": [
    "#!!!!!!!!!!!!!!!!!!!!!!!!!!!!!!!!!!!!!!!!!!!!!!!!!!!!!!!!!!!!!!!!!!!!!!\n",
    "#!!!!!!!!!!!Be careful about the Endian of returned histogram!!!!!!!!!!\n",
    "#!!!!!!!!!!!!!!!!!!!!!!!!!!!!!!!!!!!!!!!!!!!!!!!!!!!!!!!!!!!!!!!!!!!!!!\n",
    "server.probe(vault_index=7, circuit=test_probe)"
   ]
  },
  {
   "cell_type": "markdown",
   "metadata": {},
   "source": [
    "## Test Attack using Vault 3"
   ]
  },
  {
   "cell_type": "code",
   "execution_count": 150,
   "metadata": {
    "tags": []
   },
   "outputs": [
    {
     "name": "stdout",
     "output_type": "stream",
     "text": [
      "OPENQASM 2.0;\n",
      "include \"qelib1.inc\";\n",
      "qreg q[3];\n",
      "h q[0];\n",
      "s q[0];\n",
      "t q[0];\n",
      "h q[1];\n",
      "s q[1];\n",
      "t q[1];\n",
      "h q[2];\n",
      "s q[2];\n",
      "t q[2];\n",
      "\n"
     ]
    }
   ],
   "source": [
    "qc = QuantumCircuit(3)\n",
    "qc.h(0)\n",
    "qc.s(0)\n",
    "qc.t(0)\n",
    "#qc.h(0)\n",
    "\n",
    "qc.h(1)\n",
    "qc.s(1)\n",
    "qc.t(1)\n",
    "#qc.rz(np.pi/4,1)\n",
    "\n",
    "qc.h(2)\n",
    "qc.s(2)\n",
    "qc.t(2)\n",
    "#qc.rz(np.pi/4,2)\n",
    "\n",
    "test_attack = qc.qasm()\n",
    "print(test_attack)"
   ]
  },
  {
   "cell_type": "code",
   "execution_count": 151,
   "metadata": {
    "tags": []
   },
   "outputs": [
    {
     "data": {
      "image/png": "[encoded data removed]",
      "text/plain": [
       "<Figure size 371.107x284.278 with 1 Axes>"
      ]
     },
     "execution_count": 151,
     "metadata": {},
     "output_type": "execute_result"
    }
   ],
   "source": [
    "qc.draw('mpl')"
   ]
  },
  {
   "cell_type": "code",
   "execution_count": 153,
   "metadata": {
    "tags": []
   },
   "outputs": [
    {
     "data": {
      "text/plain": [
       "{'rawScore': 0.2505, 'costFactor': 1, 'score': 0.2505}"
      ]
     },
     "execution_count": 153,
     "metadata": {},
     "output_type": "execute_result"
    }
   ],
   "source": [
    "server.attack(vault_index=5, circuit=test_attack)"
   ]
  },
  {
   "cell_type": "markdown",
   "metadata": {},
   "source": [
    "## Check Stateserver.state()"
   ]
  },
  {
   "cell_type": "code",
   "execution_count": 154,
   "metadata": {
    "tags": []
   },
   "outputs": [
    {
     "data": {
      "text/plain": [
       "{'team': 'catlon-olpha',\n",
       " 'totalAvgScore': 0.02804166666666667,\n",
       " 'topVaultScores': [0.8,\n",
       "  0.003,\n",
       "  0.0015,\n",
       "  0,\n",
       "  0,\n",
       "  0.252,\n",
       "  0.0625,\n",
       "  0.0075,\n",
       "  0.0015,\n",
       "  0.0015,\n",
       "  0.004,\n",
       "  0,\n",
       "  0.003],\n",
       " 'probesRemaining': [30, 13, 15, 14, 16, 13, 16, 12, 17, 20, 20, 20, 20],\n",
       " 'attacksRemaining': [32, 14, 18, 7, 17, 14, 14, 15, 17, 18, 19, 20, 19],\n",
       " 'reminder': 'Vault index 0 is a test vault, and does not count towards your final score.'}"
      ]
     },
     "execution_count": 154,
     "metadata": {},
     "output_type": "execute_result"
    }
   ],
   "source": [
    "server.state()"
   ]
  },
  {
   "cell_type": "markdown",
   "metadata": {},
   "source": [
    "## Test probe using vault 3"
   ]
  },
  {
   "cell_type": "code",
   "execution_count": 13,
   "metadata": {
    "tags": []
   },
   "outputs": [
    {
     "name": "stdout",
     "output_type": "stream",
     "text": [
      "OPENQASM 2.0;\n",
      "include \"qelib1.inc\";\n",
      "qreg q[3];\n",
      "rz(pi/6) q[0];\n",
      "rx(pi/6) q[0];\n",
      "rz(pi/6) q[0];\n",
      "rz(pi/6) q[1];\n",
      "rx(pi/6) q[1];\n",
      "rz(pi/6) q[1];\n",
      "rz(pi/6) q[2];\n",
      "rx(pi/6) q[2];\n",
      "rz(pi/6) q[2];\n",
      "\n"
     ]
    }
   ],
   "source": [
    "qc = QuantumCircuit(3)\n",
    "qc.rz(np.pi/6,0)\n",
    "qc.rx(np.pi/6,0)\n",
    "qc.rz(np.pi/6,0)\n",
    "\n",
    "qc.rz(np.pi/6,1)\n",
    "qc.rx(np.pi/6,1)\n",
    "qc.rz(np.pi/6,1)\n",
    "\n",
    "qc.rz(np.pi/6,2)\n",
    "qc.rx(np.pi/6,2)\n",
    "qc.rz(np.pi/6,2)\n",
    "\n",
    "test_attack = qc.qasm()\n",
    "print(test_attack)"
   ]
  },
  {
   "cell_type": "code",
   "execution_count": 14,
   "metadata": {
    "tags": []
   },
   "outputs": [
    {
     "data": {
      "image/png": "[encoded data removed]",
      "text/plain": [
       "<Figure size 371.107x284.278 with 1 Axes>"
      ]
     },
     "execution_count": 14,
     "metadata": {},
     "output_type": "execute_result"
    }
   ],
   "source": [
    "qc.draw('mpl')"
   ]
  },
  {
   "cell_type": "code",
   "execution_count": 15,
   "metadata": {
    "collapsed": true,
    "jupyter": {
     "outputs_hidden": true
    },
    "tags": []
   },
   "outputs": [
    {
     "data": {
      "text/plain": [
       "{'142': 0.005,\n",
       " '265': 0.005,\n",
       " '309': 0.005,\n",
       " '310': 0.005,\n",
       " '313': 0.005,\n",
       " '328': 0.005,\n",
       " '329': 0.005,\n",
       " '365': 0.005,\n",
       " '373': 0.005,\n",
       " '429': 0.005,\n",
       " '447': 0.005,\n",
       " '479': 0.005,\n",
       " '488': 0.005,\n",
       " '491': 0.01,\n",
       " '495': 0.005,\n",
       " '497': 0.01,\n",
       " '498': 0.005,\n",
       " '499': 0.005,\n",
       " '501': 0.005,\n",
       " '507': 0.005,\n",
       " '586': 0.005,\n",
       " '589': 0.005,\n",
       " '597': 0.005,\n",
       " '623': 0.005,\n",
       " '653': 0.005,\n",
       " '661': 0.005,\n",
       " '693': 0.005,\n",
       " '719': 0.005,\n",
       " '744': 0.005,\n",
       " '747': 0.005,\n",
       " '751': 0.005,\n",
       " '752': 0.005,\n",
       " '753': 0.005,\n",
       " '755': 0.005,\n",
       " '760': 0.005,\n",
       " '809': 0.005,\n",
       " '813': 0.005,\n",
       " '845': 0.005,\n",
       " '856': 0.005,\n",
       " '875': 0.015,\n",
       " '879': 0.01,\n",
       " '880': 0.005,\n",
       " '885': 0.005,\n",
       " '894': 0.005,\n",
       " '906': 0.005,\n",
       " '911': 0.005,\n",
       " '913': 0.005,\n",
       " '941': 0.01,\n",
       " '957': 0.005,\n",
       " '1001': 0.005,\n",
       " '1002': 0.005,\n",
       " '1003': 0.02,\n",
       " '1005': 0.01,\n",
       " '1006': 0.015,\n",
       " '1013': 0.005,\n",
       " '1021': 0.01,\n",
       " '1037': 0.005,\n",
       " '1109': 0.005,\n",
       " '1133': 0.005,\n",
       " '1293': 0.005,\n",
       " '1338': 0.005,\n",
       " '1352': 0.005,\n",
       " '1384': 0.005,\n",
       " '1387': 0.01,\n",
       " '1391': 0.01,\n",
       " '1393': 0.005,\n",
       " '1395': 0.005,\n",
       " '1397': 0.005,\n",
       " '1398': 0.005,\n",
       " '1399': 0.01,\n",
       " '1402': 0.005,\n",
       " '1421': 0.005,\n",
       " '1435': 0.005,\n",
       " '1448': 0.005,\n",
       " '1456': 0.005,\n",
       " '1485': 0.005,\n",
       " '1501': 0.005,\n",
       " '1515': 0.005,\n",
       " '1517': 0.005,\n",
       " '1520': 0.01,\n",
       " '1521': 0.005,\n",
       " '1522': 0.005,\n",
       " '1525': 0.005,\n",
       " '1527': 0.005,\n",
       " '1530': 0.005,\n",
       " '1672': 0.005,\n",
       " '1709': 0.005,\n",
       " '1739': 0.005,\n",
       " '1746': 0.005,\n",
       " '1768': 0.005,\n",
       " '1770': 0.005,\n",
       " '1777': 0.005,\n",
       " '1800': 0.005,\n",
       " '1805': 0.01,\n",
       " '1807': 0.005,\n",
       " '1831': 0.005,\n",
       " '1839': 0.005,\n",
       " '1850': 0.005,\n",
       " '1854': 0.005,\n",
       " '1865': 0.005,\n",
       " '1897': 0.005,\n",
       " '1898': 0.005,\n",
       " '1899': 0.005,\n",
       " '1901': 0.015,\n",
       " '1902': 0.01,\n",
       " '1903': 0.005,\n",
       " '1904': 0.005,\n",
       " '1930': 0.005,\n",
       " '1936': 0.005,\n",
       " '1941': 0.005,\n",
       " '1963': 0.005,\n",
       " '1965': 0.01,\n",
       " '1971': 0.005,\n",
       " '1997': 0.005,\n",
       " '2024': 0.01,\n",
       " '2025': 0.005,\n",
       " '2027': 0.01,\n",
       " '2029': 0.025,\n",
       " '2030': 0.005,\n",
       " '2031': 0.005,\n",
       " '2032': 0.005,\n",
       " '2033': 0.01,\n",
       " '2035': 0.005,\n",
       " '2037': 0.015,\n",
       " '2038': 0.005,\n",
       " '2042': 0.01,\n",
       " '2542': 0.005,\n",
       " '2546': 0.005,\n",
       " '2549': 0.005,\n",
       " '2717': 0.005,\n",
       " '2766': 0.005,\n",
       " '2797': 0.005,\n",
       " '2805': 0.005,\n",
       " '2808': 0.005,\n",
       " '2861': 0.005,\n",
       " '2911': 0.005,\n",
       " '2925': 0.005,\n",
       " '2927': 0.005,\n",
       " '2933': 0.005,\n",
       " '2963': 0.005,\n",
       " '2970': 0.005,\n",
       " '3040': 0.005,\n",
       " '3051': 0.005,\n",
       " '3053': 0.01,\n",
       " '3057': 0.01,\n",
       " '3064': 0.01,\n",
       " '3285': 0.005,\n",
       " '3887': 0.005,\n",
       " '3941': 0.005,\n",
       " '3947': 0.01,\n",
       " '3951': 0.005,\n",
       " '3977': 0.005,\n",
       " '3979': 0.005,\n",
       " '3981': 0.005,\n",
       " '4019': 0.005,\n",
       " '4064': 0.005,\n",
       " '4074': 0.005,\n",
       " '4075': 0.005,\n",
       " '4077': 0.005,\n",
       " '4078': 0.01,\n",
       " '4079': 0.005,\n",
       " '4083': 0.005,\n",
       " '4094': 0.005}"
      ]
     },
     "execution_count": 15,
     "metadata": {},
     "output_type": "execute_result"
    }
   ],
   "source": [
    "#!!!!!!!!!!!!!!!!!!!!!!!!!!!!!!!!!!!!!!!!!!!!!!!!!!!!!!!!!!!!!!!!!!!!!!\n",
    "#!!!!!!!!!!!Be careful about the Endian of returned histogram!!!!!!!!!!\n",
    "#!!!!!!!!!!!!!!!!!!!!!!!!!!!!!!!!!!!!!!!!!!!!!!!!!!!!!!!!!!!!!!!!!!!!!!\n",
    "server.probe(vault_index=3, circuit=test_probe)"
   ]
  },
  {
   "cell_type": "markdown",
   "metadata": {},
   "source": [
    "## Test attack using vault 5"
   ]
  },
  {
   "cell_type": "code",
   "execution_count": 16,
   "metadata": {
    "tags": []
   },
   "outputs": [
    {
     "name": "stdout",
     "output_type": "stream",
     "text": [
      "OPENQASM 2.0;\n",
      "include \"qelib1.inc\";\n",
      "qreg q[3];\n",
      "h q[0];\n",
      "s q[0];\n",
      "rz(pi/3) q[0];\n",
      "h q[1];\n",
      "s q[1];\n",
      "rz(pi/3) q[1];\n",
      "h q[2];\n",
      "s q[2];\n",
      "rz(pi/3) q[2];\n",
      "\n"
     ]
    }
   ],
   "source": [
    "qc = QuantumCircuit(3)\n",
    "qc.h(0)\n",
    "qc.s(0)\n",
    "qc.rz(np.pi/3,0)\n",
    "\n",
    "qc.h(1)\n",
    "qc.s(1)\n",
    "qc.rz(np.pi/3,1)\n",
    "\n",
    "qc.h(2)\n",
    "qc.s(2)\n",
    "qc.rz(np.pi/3,2)\n",
    "test_attack = qc.qasm()\n",
    "print(test_attack)"
   ]
  },
  {
   "cell_type": "code",
   "execution_count": 17,
   "metadata": {
    "tags": []
   },
   "outputs": [
    {
     "data": {
      "text/plain": [
       "{'rawScore': 0.2505, 'costFactor': 1, 'score': 0.2505}"
      ]
     },
     "execution_count": 17,
     "metadata": {},
     "output_type": "execute_result"
    }
   ],
   "source": [
    "server.attack(vault_index=5, circuit=test_attack)"
   ]
  },
  {
   "cell_type": "markdown",
   "metadata": {},
   "source": [
    "## Test probe using vault 2"
   ]
  },
  {
   "cell_type": "code",
   "execution_count": 19,
   "metadata": {
    "tags": []
   },
   "outputs": [
    {
     "name": "stdout",
     "output_type": "stream",
     "text": [
      "OPENQASM 2.0;\n",
      "include \"qelib1.inc\";\n",
      "qreg q[2];\n",
      "rz(pi/6) q[0];\n",
      "rx(pi/6) q[0];\n",
      "rz(pi/6) q[0];\n",
      "rz(pi/6) q[1];\n",
      "rx(pi/6) q[1];\n",
      "rz(pi/6) q[1];\n",
      "\n"
     ]
    }
   ],
   "source": [
    "qc = QuantumCircuit(2)\n",
    "qc.rz(np.pi/6,0)\n",
    "qc.rx(np.pi/6,0)\n",
    "qc.rz(np.pi/6,0)\n",
    "\n",
    "qc.rz(np.pi/6,1)\n",
    "qc.rx(np.pi/6,1)\n",
    "qc.rz(np.pi/6,1)\n",
    "\n",
    "test_attack = qc.qasm()\n",
    "print(test_attack)"
   ]
  },
  {
   "cell_type": "code",
   "execution_count": 20,
   "metadata": {
    "tags": []
   },
   "outputs": [
    {
     "data": {
      "image/png": "[encoded data removed]",
      "text/plain": [
       "<Figure size 370.906x200.667 with 1 Axes>"
      ]
     },
     "execution_count": 20,
     "metadata": {},
     "output_type": "execute_result"
    }
   ],
   "source": [
    "qc.draw('mpl')"
   ]
  },
  {
   "cell_type": "code",
   "execution_count": 21,
   "metadata": {
    "tags": []
   },
   "outputs": [
    {
     "data": {
      "text/plain": [
       "{'0': 0.015,\n",
       " '1': 0.02,\n",
       " '2': 0.02,\n",
       " '3': 0.02,\n",
       " '4': 0.005,\n",
       " '5': 0.03,\n",
       " '6': 0.03,\n",
       " '7': 0.02,\n",
       " '8': 0.03,\n",
       " '9': 0.025,\n",
       " '10': 0.005,\n",
       " '11': 0.015,\n",
       " '12': 0.005,\n",
       " '14': 0.02,\n",
       " '16': 0.01,\n",
       " '17': 0.005,\n",
       " '18': 0.005,\n",
       " '19': 0.01,\n",
       " '20': 0.045,\n",
       " '21': 0.005,\n",
       " '22': 0.02,\n",
       " '25': 0.005,\n",
       " '26': 0.015,\n",
       " '27': 0.01,\n",
       " '29': 0.045,\n",
       " '30': 0.015,\n",
       " '32': 0.015,\n",
       " '33': 0.01,\n",
       " '34': 0.025,\n",
       " '36': 0.015,\n",
       " '37': 0.125,\n",
       " '38': 0.115,\n",
       " '39': 0.025,\n",
       " '40': 0.025,\n",
       " '41': 0.04,\n",
       " '42': 0.025,\n",
       " '44': 0.025,\n",
       " '45': 0.015,\n",
       " '46': 0.02,\n",
       " '48': 0.005,\n",
       " '53': 0.015,\n",
       " '55': 0.005,\n",
       " '56': 0.015,\n",
       " '61': 0.025,\n",
       " '63': 0.005}"
      ]
     },
     "execution_count": 21,
     "metadata": {},
     "output_type": "execute_result"
    }
   ],
   "source": [
    "#!!!!!!!!!!!!!!!!!!!!!!!!!!!!!!!!!!!!!!!!!!!!!!!!!!!!!!!!!!!!!!!!!!!!!!\n",
    "#!!!!!!!!!!!Be careful about the Endian of returned histogram!!!!!!!!!!\n",
    "#!!!!!!!!!!!!!!!!!!!!!!!!!!!!!!!!!!!!!!!!!!!!!!!!!!!!!!!!!!!!!!!!!!!!!!\n",
    "server.probe(vault_index=2, circuit=test_probe)"
   ]
  },
  {
   "cell_type": "markdown",
   "metadata": {},
   "source": [
    "## Test attack using vault 6"
   ]
  },
  {
   "cell_type": "code",
   "execution_count": 22,
   "metadata": {
    "tags": []
   },
   "outputs": [
    {
     "name": "stdout",
     "output_type": "stream",
     "text": [
      "OPENQASM 2.0;\n",
      "include \"qelib1.inc\";\n",
      "qreg q[2];\n",
      "h q[0];\n",
      "s q[0];\n",
      "rz(pi/3) q[0];\n",
      "h q[1];\n",
      "s q[1];\n",
      "rz(pi/3) q[1];\n",
      "\n"
     ]
    }
   ],
   "source": [
    "qc = QuantumCircuit(2)\n",
    "qc.h(0)\n",
    "qc.s(0)\n",
    "qc.rz(np.pi/3,0)\n",
    "\n",
    "qc.h(1)\n",
    "qc.s(1)\n",
    "qc.rz(np.pi/3,1)\n",
    "test_attack = qc.qasm()\n",
    "print(test_attack)"
   ]
  },
  {
   "cell_type": "code",
   "execution_count": 23,
   "metadata": {
    "tags": []
   },
   "outputs": [
    {
     "data": {
      "image/png": "[encoded data removed]",
      "text/plain": [
       "<Figure size 370.906x200.667 with 1 Axes>"
      ]
     },
     "execution_count": 23,
     "metadata": {},
     "output_type": "execute_result"
    }
   ],
   "source": [
    "qc.draw('mpl')"
   ]
  },
  {
   "cell_type": "code",
   "execution_count": 24,
   "metadata": {
    "tags": []
   },
   "outputs": [
    {
     "data": {
      "text/plain": [
       "{'rawScore': 0.0625, 'costFactor': 1, 'score': 0.0625}"
      ]
     },
     "execution_count": 24,
     "metadata": {},
     "output_type": "execute_result"
    }
   ],
   "source": [
    "server.attack(vault_index=6, circuit=test_attack)"
   ]
  },
  {
   "cell_type": "code",
   "execution_count": 36,
   "metadata": {
    "tags": []
   },
   "outputs": [
    {
     "data": {
      "text/plain": [
       "{'team': 'catlon-olpha',\n",
       " 'totalAvgScore': 0.02645430107526882,\n",
       " 'topVaultScores': [0.8,\n",
       "  0.0014516129032258066,\n",
       "  0.0015,\n",
       "  0,\n",
       "  0,\n",
       "  0.252,\n",
       "  0.0625,\n",
       "  0,\n",
       "  0,\n",
       "  0,\n",
       "  0,\n",
       "  0,\n",
       "  0],\n",
       " 'probesRemaining': [30, 13, 17, 18, 18, 19, 18, 20, 20, 20, 20, 20, 20],\n",
       " 'attacksRemaining': [32, 16, 19, 19, 19, 18, 16, 20, 20, 20, 20, 20, 20],\n",
       " 'reminder': 'Vault index 0 is a test vault, and does not count towards your final score.'}"
      ]
     },
     "execution_count": 36,
     "metadata": {},
     "output_type": "execute_result"
    }
   ],
   "source": [
    "server.state()"
   ]
  },
  {
   "cell_type": "markdown",
   "metadata": {
    "tags": []
   },
   "source": [
    "cq = cirq.Circuit()\n",
    "cq.append(cirq.CNOT.on(cirq.LineQubit(0), cirq.LineQubit(2)))\n",
    "cq.append(cirq.CNOT.on(cirq.LineQubit(0), cirq.LineQubit(1)))\n",
    "cq.append(cirq.H.on(cirq.LineQubit(0)))\n",
    "test_attack = cirq.qasm(cq)\n",
    "print(test_attack)"
   ]
  },
  {
   "cell_type": "markdown",
   "metadata": {},
   "source": [
    "## Test probe using vault 4"
   ]
  },
  {
   "cell_type": "code",
   "execution_count": 28,
   "metadata": {
    "tags": []
   },
   "outputs": [
    {
     "name": "stdout",
     "output_type": "stream",
     "text": [
      "OPENQASM 2.0;\n",
      "include \"qelib1.inc\";\n",
      "qreg q[4];\n",
      "rz(pi/3) q[0];\n",
      "rx(pi/3) q[0];\n",
      "rz(pi/3) q[0];\n",
      "rz(pi/3) q[1];\n",
      "rx(pi/3) q[1];\n",
      "rz(pi/3) q[1];\n",
      "rz(pi/6) q[2];\n",
      "rx(pi/6) q[2];\n",
      "rz(pi/6) q[2];\n",
      "rz(pi/6) q[3];\n",
      "rx(pi/6) q[3];\n",
      "rz(pi/6) q[3];\n",
      "\n"
     ]
    }
   ],
   "source": [
    "qc = QuantumCircuit(4)\n",
    "qc.rz(np.pi/3,0)\n",
    "qc.rx(np.pi/3,0)\n",
    "qc.rz(np.pi/3,0)\n",
    "\n",
    "qc.rz(np.pi/3,1)\n",
    "qc.rx(np.pi/3,1)\n",
    "qc.rz(np.pi/3,1)\n",
    "\n",
    "qc.rz(np.pi/6,2)\n",
    "qc.rx(np.pi/6,2)\n",
    "qc.rz(np.pi/6,2)\n",
    "\n",
    "qc.rz(np.pi/6,3)\n",
    "qc.rx(np.pi/6,3)\n",
    "qc.rz(np.pi/6,3)\n",
    "\n",
    "test_attack = qc.qasm()\n",
    "print(test_attack)"
   ]
  },
  {
   "cell_type": "code",
   "execution_count": 29,
   "metadata": {
    "tags": []
   },
   "outputs": [
    {
     "data": {
      "image/png": "[encoded data removed]",
      "text/plain": [
       "<Figure size 371.107x367.889 with 1 Axes>"
      ]
     },
     "execution_count": 29,
     "metadata": {},
     "output_type": "execute_result"
    }
   ],
   "source": [
    "qc.draw('mpl')"
   ]
  },
  {
   "cell_type": "code",
   "execution_count": 30,
   "metadata": {
    "collapsed": true,
    "jupyter": {
     "outputs_hidden": true
    },
    "tags": []
   },
   "outputs": [
    {
     "data": {
      "text/plain": [
       "{'51': 0.005,\n",
       " '99': 0.005,\n",
       " '111': 0.01,\n",
       " '114': 0.005,\n",
       " '115': 0.005,\n",
       " '116': 0.005,\n",
       " '162': 0.005,\n",
       " '188': 0.005,\n",
       " '274': 0.005,\n",
       " '280': 0.005,\n",
       " '284': 0.005,\n",
       " '295': 0.005,\n",
       " '315': 0.005,\n",
       " '322': 0.005,\n",
       " '390': 0.005,\n",
       " '416': 0.005,\n",
       " '443': 0.005,\n",
       " '450': 0.005,\n",
       " '482': 0.005,\n",
       " '488': 0.005,\n",
       " '546': 0.005,\n",
       " '583': 0.005,\n",
       " '584': 0.005,\n",
       " '586': 0.005,\n",
       " '605': 0.005,\n",
       " '618': 0.005,\n",
       " '628': 0.005,\n",
       " '643': 0.005,\n",
       " '672': 0.005,\n",
       " '700': 0.005,\n",
       " '731': 0.005,\n",
       " '749': 0.005,\n",
       " '754': 0.005,\n",
       " '756': 0.005,\n",
       " '760': 0.005,\n",
       " '792': 0.005,\n",
       " '826': 0.005,\n",
       " '831': 0.005,\n",
       " '863': 0.005,\n",
       " '867': 0.005,\n",
       " '882': 0.005,\n",
       " '883': 0.005,\n",
       " '884': 0.005,\n",
       " '962': 0.005,\n",
       " '968': 0.005,\n",
       " '992': 0.005,\n",
       " '1026': 0.005,\n",
       " '1086': 0.005,\n",
       " '1118': 0.005,\n",
       " '1128': 0.005,\n",
       " '1130': 0.005,\n",
       " '1148': 0.005,\n",
       " '1151': 0.005,\n",
       " '1208': 0.005,\n",
       " '1257': 0.005,\n",
       " '1265': 0.005,\n",
       " '1266': 0.005,\n",
       " '1277': 0.005,\n",
       " '1278': 0.005,\n",
       " '1280': 0.005,\n",
       " '1292': 0.005,\n",
       " '1322': 0.005,\n",
       " '1330': 0.005,\n",
       " '1336': 0.005,\n",
       " '1338': 0.005,\n",
       " '1395': 0.005,\n",
       " '1443': 0.005,\n",
       " '1444': 0.005,\n",
       " '1452': 0.005,\n",
       " '1461': 0.005,\n",
       " '1464': 0.005,\n",
       " '1514': 0.005,\n",
       " '1563': 0.005,\n",
       " '1568': 0.005,\n",
       " '1599': 0.005,\n",
       " '1632': 0.005,\n",
       " '1634': 0.005,\n",
       " '1650': 0.005,\n",
       " '1651': 0.005,\n",
       " '1662': 0.005,\n",
       " '1676': 0.005,\n",
       " '1693': 0.005,\n",
       " '1725': 0.005,\n",
       " '1736': 0.005,\n",
       " '1738': 0.005,\n",
       " '1748': 0.005,\n",
       " '1799': 0.005,\n",
       " '1812': 0.005,\n",
       " '1818': 0.005,\n",
       " '1826': 0.005,\n",
       " '1836': 0.005,\n",
       " '1842': 0.005,\n",
       " '1891': 0.005,\n",
       " '1922': 0.005,\n",
       " '1984': 0.005,\n",
       " '1986': 0.005,\n",
       " '1987': 0.005,\n",
       " '2010': 0.005,\n",
       " '2030': 0.005,\n",
       " '2100': 0.005,\n",
       " '2134': 0.005,\n",
       " '2195': 0.005,\n",
       " '2199': 0.005,\n",
       " '2200': 0.005,\n",
       " '2202': 0.005,\n",
       " '2208': 0.005,\n",
       " '2210': 0.005,\n",
       " '2218': 0.005,\n",
       " '2228': 0.005,\n",
       " '2240': 0.005,\n",
       " '2242': 0.005,\n",
       " '2254': 0.005,\n",
       " '2281': 0.005,\n",
       " '2307': 0.005,\n",
       " '2315': 0.005,\n",
       " '2316': 0.005,\n",
       " '2318': 0.005,\n",
       " '2338': 0.005,\n",
       " '2342': 0.005,\n",
       " '2346': 0.005,\n",
       " '2356': 0.005,\n",
       " '2358': 0.005,\n",
       " '2364': 0.005,\n",
       " '2368': 0.015,\n",
       " '2376': 0.005,\n",
       " '2421': 0.005,\n",
       " '2451': 0.005,\n",
       " '2486': 0.005,\n",
       " '2562': 0.005,\n",
       " '2572': 0.01,\n",
       " '2602': 0.005,\n",
       " '2632': 0.005,\n",
       " '2659': 0.005,\n",
       " '2666': 0.005,\n",
       " '2691': 0.005,\n",
       " '2708': 0.005,\n",
       " '2722': 0.005,\n",
       " '2744': 0.01,\n",
       " '2762': 0.01,\n",
       " '2774': 0.005,\n",
       " '2786': 0.01,\n",
       " '2794': 0.005,\n",
       " '2795': 0.005,\n",
       " '2796': 0.005,\n",
       " '2803': 0.005,\n",
       " '2805': 0.005,\n",
       " '2819': 0.005,\n",
       " '2821': 0.005,\n",
       " '2845': 0.005,\n",
       " '2850': 0.01,\n",
       " '2898': 0.005,\n",
       " '2906': 0.005,\n",
       " '2907': 0.005,\n",
       " '2918': 0.005,\n",
       " '2921': 0.005,\n",
       " '2926': 0.005,\n",
       " '2934': 0.005,\n",
       " '2936': 0.005,\n",
       " '2958': 0.005,\n",
       " '2988': 0.005,\n",
       " '3004': 0.005,\n",
       " '3019': 0.005,\n",
       " '3043': 0.005,\n",
       " '3056': 0.005,\n",
       " '3060': 0.005,\n",
       " '3136': 0.005,\n",
       " '3284': 0.005,\n",
       " '3299': 0.005,\n",
       " '3307': 0.005,\n",
       " '3402': 0.005,\n",
       " '3407': 0.005,\n",
       " '3486': 0.005,\n",
       " '3488': 0.005,\n",
       " '3554': 0.005,\n",
       " '3748': 0.005,\n",
       " '3781': 0.005,\n",
       " '3803': 0.005,\n",
       " '3810': 0.005,\n",
       " '3828': 0.005,\n",
       " '3876': 0.005,\n",
       " '3880': 0.005,\n",
       " '3881': 0.005,\n",
       " '3904': 0.005,\n",
       " '3915': 0.005,\n",
       " '3933': 0.005,\n",
       " '3938': 0.005,\n",
       " '3978': 0.005,\n",
       " '3980': 0.005,\n",
       " '3981': 0.005,\n",
       " '3988': 0.005,\n",
       " '4043': 0.005,\n",
       " '4090': 0.005}"
      ]
     },
     "execution_count": 30,
     "metadata": {},
     "output_type": "execute_result"
    }
   ],
   "source": [
    "#!!!!!!!!!!!!!!!!!!!!!!!!!!!!!!!!!!!!!!!!!!!!!!!!!!!!!!!!!!!!!!!!!!!!!!\n",
    "#!!!!!!!!!!!Be careful about the Endian of returned histogram!!!!!!!!!!\n",
    "#!!!!!!!!!!!!!!!!!!!!!!!!!!!!!!!!!!!!!!!!!!!!!!!!!!!!!!!!!!!!!!!!!!!!!!\n",
    "server.probe(vault_index=4, circuit=test_probe)"
   ]
  },
  {
   "cell_type": "markdown",
   "metadata": {},
   "source": [
    "## Test Attack using Vault 2"
   ]
  },
  {
   "cell_type": "code",
   "execution_count": 32,
   "metadata": {
    "tags": []
   },
   "outputs": [
    {
     "name": "stdout",
     "output_type": "stream",
     "text": [
      "OPENQASM 2.0;\n",
      "include \"qelib1.inc\";\n",
      "qreg q[4];\n",
      "h q[0];\n",
      "s q[0];\n",
      "rz(pi/6) q[0];\n",
      "t q[0];\n",
      "h q[1];\n",
      "s q[1];\n",
      "rz(pi/6) q[1];\n",
      "t q[1];\n",
      "h q[2];\n",
      "s q[2];\n",
      "rz(pi/3) q[2];\n",
      "t q[2];\n",
      "h q[3];\n",
      "s q[3];\n",
      "rz(pi/3) q[3];\n",
      "t q[3];\n",
      "\n"
     ]
    }
   ],
   "source": [
    "qc = QuantumCircuit(4)\n",
    "qc.h(0)\n",
    "qc.s(0)\n",
    "qc.rz(np.pi/6,0)\n",
    "qc.t(0)\n",
    "\n",
    "qc.h(1)\n",
    "qc.s(1)\n",
    "qc.rz(np.pi/6,1)\n",
    "qc.t(1)\n",
    "\n",
    "qc.h(2)\n",
    "qc.s(2)\n",
    "qc.rz(np.pi/3,2)\n",
    "qc.t(2)\n",
    "\n",
    "qc.h(3)\n",
    "qc.s(3)\n",
    "qc.rz(np.pi/3,3)\n",
    "qc.t(3)\n",
    "test_attack = qc.qasm()\n",
    "print(test_attack)"
   ]
  },
  {
   "cell_type": "code",
   "execution_count": 33,
   "metadata": {
    "tags": []
   },
   "outputs": [
    {
     "data": {
      "image/png": "[encoded data removed]",
      "text/plain": [
       "<Figure size 454.719x367.889 with 1 Axes>"
      ]
     },
     "execution_count": 33,
     "metadata": {},
     "output_type": "execute_result"
    }
   ],
   "source": [
    "qc.draw('mpl')"
   ]
  },
  {
   "cell_type": "code",
   "execution_count": 35,
   "metadata": {
    "tags": []
   },
   "outputs": [
    {
     "data": {
      "text/plain": [
       "{'rawScore': 0.0015, 'costFactor': 1, 'score': 0.0015}"
      ]
     },
     "execution_count": 35,
     "metadata": {},
     "output_type": "execute_result"
    }
   ],
   "source": [
    "server.attack(vault_index=2, circuit=test_attack)"
   ]
  },
  {
   "cell_type": "markdown",
   "metadata": {},
   "source": [
    "## Check state"
   ]
  },
  {
   "cell_type": "code",
   "execution_count": 37,
   "metadata": {
    "tags": []
   },
   "outputs": [
    {
     "data": {
      "text/plain": [
       "{'team': 'catlon-olpha',\n",
       " 'totalAvgScore': 0.02645430107526882,\n",
       " 'topVaultScores': [0.8,\n",
       "  0.0014516129032258066,\n",
       "  0.0015,\n",
       "  0,\n",
       "  0,\n",
       "  0.252,\n",
       "  0.0625,\n",
       "  0,\n",
       "  0,\n",
       "  0,\n",
       "  0,\n",
       "  0,\n",
       "  0],\n",
       " 'probesRemaining': [30, 13, 17, 17, 18, 19, 18, 20, 20, 20, 20, 20, 20],\n",
       " 'attacksRemaining': [32, 16, 19, 19, 19, 18, 16, 20, 20, 20, 20, 20, 20],\n",
       " 'reminder': 'Vault index 0 is a test vault, and does not count towards your final score.'}"
      ]
     },
     "execution_count": 37,
     "metadata": {},
     "output_type": "execute_result"
    }
   ],
   "source": [
    "server.state()"
   ]
  },
  {
   "cell_type": "markdown",
   "metadata": {},
   "source": [
    "Check state for your team's current score(s), and number of probes/attacks remaining"
   ]
  },
  {
   "cell_type": "markdown",
   "metadata": {},
   "source": [
    "## Test probe for Vault 8"
   ]
  },
  {
   "cell_type": "code",
   "execution_count": 126,
   "metadata": {
    "tags": []
   },
   "outputs": [
    {
     "name": "stdout",
     "output_type": "stream",
     "text": [
      "OPENQASM 2.0;\n",
      "include \"qelib1.inc\";\n",
      "qreg q[8];\n",
      "rz(pi/6) q[0];\n",
      "rx(pi/6) q[0];\n",
      "rz(pi/6) q[0];\n",
      "rz(pi/6) q[1];\n",
      "rx(pi/6) q[1];\n",
      "rz(pi/6) q[1];\n",
      "rz(pi/6) q[2];\n",
      "rx(pi/6) q[2];\n",
      "rz(pi/6) q[2];\n",
      "rz(pi/6) q[3];\n",
      "rx(pi/6) q[3];\n",
      "rz(pi/6) q[3];\n",
      "rz(pi/6) q[4];\n",
      "rx(pi/6) q[4];\n",
      "rz(pi/6) q[4];\n",
      "rz(pi/6) q[5];\n",
      "rx(pi/6) q[5];\n",
      "rz(pi/6) q[5];\n",
      "rz(pi/6) q[6];\n",
      "rx(pi/6) q[6];\n",
      "rz(pi/6) q[6];\n",
      "rz(pi/6) q[7];\n",
      "rx(pi/6) q[7];\n",
      "rz(pi/6) q[7];\n",
      "\n"
     ]
    }
   ],
   "source": [
    "qc = QuantumCircuit(8)\n",
    "qc.rz(np.pi/6,0)\n",
    "qc.rx(np.pi/6,0)\n",
    "qc.rz(np.pi/6,0)\n",
    "\n",
    "qc.rz(np.pi/6,1)\n",
    "qc.rx(np.pi/6,1)\n",
    "qc.rz(np.pi/6,1)\n",
    "\n",
    "qc.rz(np.pi/6,2)\n",
    "qc.rx(np.pi/6,2)\n",
    "qc.rz(np.pi/6,2)\n",
    "\n",
    "qc.rz(np.pi/6,3)\n",
    "qc.rx(np.pi/6,3)\n",
    "qc.rz(np.pi/6,3)\n",
    "\n",
    "qc.rz(np.pi/6,4)\n",
    "qc.rx(np.pi/6,4)\n",
    "qc.rz(np.pi/6,4)\n",
    "\n",
    "qc.rz(np.pi/6,5)\n",
    "qc.rx(np.pi/6,5)\n",
    "qc.rz(np.pi/6,5)\n",
    "\n",
    "qc.rz(np.pi/6,6)\n",
    "qc.rx(np.pi/6,6)\n",
    "qc.rz(np.pi/6,6)\n",
    "\n",
    "qc.rz(np.pi/6,7)\n",
    "qc.rx(np.pi/6,7)\n",
    "qc.rz(np.pi/6,7)\n",
    "\n",
    "\n",
    "test_attack = qc.qasm()\n",
    "print(test_attack)"
   ]
  },
  {
   "cell_type": "code",
   "execution_count": 127,
   "metadata": {
    "tags": []
   },
   "outputs": [
    {
     "data": {
      "image/png": "[encoded data removed]",
      "text/plain": [
       "<Figure size 371.107x702.333 with 1 Axes>"
      ]
     },
     "execution_count": 127,
     "metadata": {},
     "output_type": "execute_result"
    }
   ],
   "source": [
    "qc.draw('mpl')"
   ]
  },
  {
   "cell_type": "code",
   "execution_count": 128,
   "metadata": {
    "tags": []
   },
   "outputs": [
    {
     "data": {
      "text/plain": [
       "{'19': 0.005,\n",
       " '45': 0.005,\n",
       " '73': 0.005,\n",
       " '76': 0.005,\n",
       " '77': 0.005,\n",
       " '83': 0.01,\n",
       " '259': 0.005,\n",
       " '290': 0.005,\n",
       " '349': 0.005,\n",
       " '366': 0.005,\n",
       " '373': 0.005,\n",
       " '517': 0.005,\n",
       " '539': 0.005,\n",
       " '545': 0.005,\n",
       " '612': 0.005,\n",
       " '770': 0.005,\n",
       " '778': 0.005,\n",
       " '782': 0.005,\n",
       " '793': 0.005,\n",
       " '802': 0.005,\n",
       " '838': 0.005,\n",
       " '870': 0.005,\n",
       " '871': 0.005,\n",
       " '878': 0.005,\n",
       " '889': 0.005,\n",
       " '1042': 0.005,\n",
       " '1051': 0.005,\n",
       " '1065': 0.005,\n",
       " '1078': 0.005,\n",
       " '1097': 0.005,\n",
       " '1124': 0.005,\n",
       " '1291': 0.005,\n",
       " '1300': 0.005,\n",
       " '1304': 0.005,\n",
       " '1315': 0.005,\n",
       " '1341': 0.005,\n",
       " '1391': 0.005,\n",
       " '1401': 0.005,\n",
       " '1572': 0.005,\n",
       " '1587': 0.005,\n",
       " '1623': 0.005,\n",
       " '1627': 0.005,\n",
       " '1630': 0.005,\n",
       " '1808': 0.005,\n",
       " '1812': 0.005,\n",
       " '1827': 0.005,\n",
       " '1871': 0.005,\n",
       " '1898': 0.005,\n",
       " '1913': 0.005,\n",
       " '2062': 0.005,\n",
       " '2064': 0.005,\n",
       " '2105': 0.005,\n",
       " '2109': 0.005,\n",
       " '2128': 0.005,\n",
       " '2309': 0.005,\n",
       " '2336': 0.005,\n",
       " '2340': 0.005,\n",
       " '2366': 0.005,\n",
       " '2369': 0.005,\n",
       " '2372': 0.005,\n",
       " '2387': 0.005,\n",
       " '2430': 0.005,\n",
       " '2571': 0.005,\n",
       " '2581': 0.005,\n",
       " '2584': 0.005,\n",
       " '2821': 0.005,\n",
       " '2880': 0.005,\n",
       " '2881': 0.005,\n",
       " '2898': 0.005,\n",
       " '2912': 0.005,\n",
       " '2917': 0.005,\n",
       " '3107': 0.005,\n",
       " '3160': 0.005,\n",
       " '3165': 0.005,\n",
       " '3329': 0.005,\n",
       " '3360': 0.005,\n",
       " '3361': 0.005,\n",
       " '3397': 0.005,\n",
       " '3400': 0.005,\n",
       " '3422': 0.005,\n",
       " '3429': 0.005,\n",
       " '3443': 0.005,\n",
       " '3450': 0.005,\n",
       " '3455': 0.005,\n",
       " '3586': 0.005,\n",
       " '3590': 0.005,\n",
       " '3623': 0.005,\n",
       " '3650': 0.005,\n",
       " '3662': 0.005,\n",
       " '3683': 0.005,\n",
       " '3701': 0.005,\n",
       " '3709': 0.005,\n",
       " '3930': 0.005,\n",
       " '4228': 0.005,\n",
       " '4311': 0.005,\n",
       " '4314': 0.005,\n",
       " '4319': 0.005,\n",
       " '4343': 0.005,\n",
       " '4496': 0.005,\n",
       " '4533': 0.005,\n",
       " '4551': 0.005,\n",
       " '4754': 0.005,\n",
       " '4759': 0.005,\n",
       " '4762': 0.005,\n",
       " '4763': 0.005,\n",
       " '4767': 0.01,\n",
       " '4773': 0.005,\n",
       " '4786': 0.005,\n",
       " '4791': 0.01,\n",
       " '4798': 0.005,\n",
       " '4812': 0.005,\n",
       " '4833': 0.005,\n",
       " '4850': 0.005,\n",
       " '4854': 0.005,\n",
       " '4858': 0.005,\n",
       " '5030': 0.005,\n",
       " '5038': 0.005,\n",
       " '5041': 0.005,\n",
       " '5067': 0.005,\n",
       " '5073': 0.005,\n",
       " '5080': 0.005,\n",
       " '5085': 0.005,\n",
       " '5090': 0.005,\n",
       " '5091': 0.005,\n",
       " '5104': 0.005,\n",
       " '5310': 0.005,\n",
       " '5324': 0.005,\n",
       " '5334': 0.005,\n",
       " '5357': 0.005,\n",
       " '5363': 0.01,\n",
       " '5506': 0.005,\n",
       " '5520': 0.005,\n",
       " '5547': 0.005,\n",
       " '5550': 0.005,\n",
       " '5561': 0.005,\n",
       " '5592': 0.005,\n",
       " '5610': 0.005,\n",
       " '5782': 0.01,\n",
       " '5800': 0.01,\n",
       " '5810': 0.005,\n",
       " '5825': 0.005,\n",
       " '5828': 0.005,\n",
       " '5868': 0.005,\n",
       " '5874': 0.005,\n",
       " '5879': 0.005,\n",
       " '6030': 0.005,\n",
       " '6041': 0.005,\n",
       " '6063': 0.01,\n",
       " '6083': 0.005,\n",
       " '6100': 0.01,\n",
       " '6371': 0.005,\n",
       " '6385': 0.005,\n",
       " '6396': 0.005,\n",
       " '6569': 0.005,\n",
       " '6579': 0.005,\n",
       " '6600': 0.005,\n",
       " '6629': 0.005,\n",
       " '6633': 0.005,\n",
       " '6790': 0.005,\n",
       " '6819': 0.005,\n",
       " '6851': 0.005,\n",
       " '6865': 0.005,\n",
       " '6890': 0.005,\n",
       " '7049': 0.005,\n",
       " '7058': 0.005,\n",
       " '7090': 0.005,\n",
       " '7134': 0.005,\n",
       " '7137': 0.005,\n",
       " '7145': 0.005,\n",
       " '7320': 0.005,\n",
       " '7321': 0.005,\n",
       " '7366': 0.01,\n",
       " '7384': 0.005,\n",
       " '7607': 0.005,\n",
       " '7629': 0.005,\n",
       " '7642': 0.005,\n",
       " '7647': 0.005,\n",
       " '7667': 0.005,\n",
       " '7832': 0.005,\n",
       " '7836': 0.01,\n",
       " '7869': 0.005,\n",
       " '7886': 0.005,\n",
       " '7910': 0.005,\n",
       " '7915': 0.005,\n",
       " '8091': 0.005,\n",
       " '8095': 0.005,\n",
       " '8096': 0.005,\n",
       " '8104': 0.005,\n",
       " '8146': 0.005,\n",
       " '8187': 0.005}"
      ]
     },
     "execution_count": 128,
     "metadata": {},
     "output_type": "execute_result"
    }
   ],
   "source": [
    "#!!!!!!!!!!!!!!!!!!!!!!!!!!!!!!!!!!!!!!!!!!!!!!!!!!!!!!!!!!!!!!!!!!!!!!\n",
    "#!!!!!!!!!!!Be careful about the Endian of returned histogram!!!!!!!!!!\n",
    "#!!!!!!!!!!!!!!!!!!!!!!!!!!!!!!!!!!!!!!!!!!!!!!!!!!!!!!!!!!!!!!!!!!!!!!\n",
    "server.probe(vault_index=8, circuit=test_probe)"
   ]
  },
  {
   "cell_type": "markdown",
   "metadata": {},
   "source": [
    "## Test Attack on Vault 8"
   ]
  },
  {
   "cell_type": "code",
   "execution_count": 130,
   "metadata": {
    "tags": []
   },
   "outputs": [
    {
     "name": "stdout",
     "output_type": "stream",
     "text": [
      "OPENQASM 2.0;\n",
      "include \"qelib1.inc\";\n",
      "qreg q[8];\n",
      "h q[0];\n",
      "s q[0];\n",
      "rz(pi/6) q[0];\n",
      "h q[1];\n",
      "s q[1];\n",
      "rz(pi/6) q[1];\n",
      "h q[2];\n",
      "s q[2];\n",
      "rz(pi/6) q[2];\n",
      "h q[3];\n",
      "s q[3];\n",
      "rz(pi/6) q[3];\n",
      "h q[4];\n",
      "s q[4];\n",
      "rz(pi/6) q[4];\n",
      "h q[5];\n",
      "s q[5];\n",
      "rz(pi/6) q[5];\n",
      "h q[6];\n",
      "s q[6];\n",
      "rz(pi/6) q[6];\n",
      "h q[7];\n",
      "s q[7];\n",
      "rz(pi/6) q[7];\n",
      "\n"
     ]
    }
   ],
   "source": [
    "qc = QuantumCircuit(8)\n",
    "qc.h(0)\n",
    "qc.s(0)\n",
    "qc.rz(np.pi/6,0)\n",
    "\n",
    "qc.h(1)\n",
    "qc.s(1)\n",
    "qc.rz(np.pi/6,1)\n",
    "\n",
    "qc.h(2)\n",
    "qc.s(2)\n",
    "qc.rz(np.pi/6,2)\n",
    "\n",
    "qc.h(3)\n",
    "qc.s(3)\n",
    "qc.rz(np.pi/6,3)\n",
    "\n",
    "qc.h(4)\n",
    "qc.s(4)\n",
    "qc.rz(np.pi/6,4)\n",
    "\n",
    "qc.h(5)\n",
    "qc.s(5)\n",
    "qc.rz(np.pi/6,5)\n",
    "\n",
    "qc.h(6)\n",
    "qc.s(6)\n",
    "qc.rz(np.pi/6,6)\n",
    "\n",
    "qc.h(7)\n",
    "qc.s(7)\n",
    "qc.rz(np.pi/6,7)\n",
    "\n",
    "\n",
    "\n",
    "test_attack = qc.qasm()\n",
    "print(test_attack)"
   ]
  },
  {
   "cell_type": "code",
   "execution_count": 131,
   "metadata": {
    "tags": []
   },
   "outputs": [
    {
     "data": {
      "image/png": "[encoded data removed]",
      "text/plain": [
       "<Figure size 371.107x702.333 with 1 Axes>"
      ]
     },
     "execution_count": 131,
     "metadata": {},
     "output_type": "execute_result"
    }
   ],
   "source": [
    "qc.draw('mpl')"
   ]
  },
  {
   "cell_type": "code",
   "execution_count": 137,
   "metadata": {
    "tags": []
   },
   "outputs": [
    {
     "data": {
      "text/plain": [
       "{'rawScore': 0.0015, 'costFactor': 1, 'score': 0.0015}"
      ]
     },
     "execution_count": 137,
     "metadata": {},
     "output_type": "execute_result"
    }
   ],
   "source": [
    "server.attack(vault_index=9, circuit=test_attack)"
   ]
  },
  {
   "cell_type": "markdown",
   "metadata": {},
   "source": [
    "## Check State"
   ]
  },
  {
   "cell_type": "code",
   "execution_count": 138,
   "metadata": {
    "tags": []
   },
   "outputs": [
    {
     "data": {
      "text/plain": [
       "{'team': 'catlon-olpha',\n",
       " 'totalAvgScore': 0.02804166666666667,\n",
       " 'topVaultScores': [0.8,\n",
       "  0.003,\n",
       "  0.0015,\n",
       "  0,\n",
       "  0,\n",
       "  0.252,\n",
       "  0.0625,\n",
       "  0.0075,\n",
       "  0.0015,\n",
       "  0.0015,\n",
       "  0.004,\n",
       "  0,\n",
       "  0.003],\n",
       " 'probesRemaining': [30, 13, 15, 14, 16, 14, 16, 13, 18, 20, 20, 20, 20],\n",
       " 'attacksRemaining': [32, 14, 18, 8, 18, 15, 14, 16, 17, 18, 19, 20, 19],\n",
       " 'reminder': 'Vault index 0 is a test vault, and does not count towards your final score.'}"
      ]
     },
     "execution_count": 138,
     "metadata": {},
     "output_type": "execute_result"
    }
   ],
   "source": [
    "server.state()"
   ]
  }
 ],
 "metadata": {
  "kernelspec": {
   "display_name": "Python 3 [Default]",
   "language": "python",
   "name": "python3"
  },
  "language_info": {
   "codemirror_mode": {
    "name": "ipython",
    "version": 3
   },
   "file_extension": ".py",
   "mimetype": "text/x-python",
   "name": "python",
   "nbconvert_exporter": "python",
   "pygments_lexer": "ipython3",
   "version": "3.11.7"
  },
  "vscode": {
   "interpreter": {
    "hash": "159d45c1b56606e60b489f81d4ff9591881a6e95352a42f62c421b24d39eb409"
   }
  }
 },
 "nbformat": 4,
 "nbformat_minor": 4
}
